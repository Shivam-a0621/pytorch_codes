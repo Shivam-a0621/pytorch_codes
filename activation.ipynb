{
 "cells": [
  {
   "cell_type": "code",
   "execution_count": 1,
   "metadata": {},
   "outputs": [],
   "source": [
    "import numpy as np\n",
    "import torch\n",
    "import torch.nn as nn\n",
    "import torch.nn.functional as F\n",
    "\n",
    "from tqdm.notebook import  trange,tqdm\n",
    "import matplotlib.pyplot as plt\n"
   ]
  },
  {
   "cell_type": "code",
   "execution_count": 2,
   "metadata": {},
   "outputs": [],
   "source": [
    "def create_data(data_points):\n",
    "    data_class1= torch.rand(data_points,2)*1.45\n",
    "    data_class2 = torch.rand(data_points,2)*3\n",
    "    \n",
    "    \n",
    "    mask = ~((data_class2[:,0]<1.55)*(data_class2[:,1]<1.55))\n",
    "    \n",
    "    data_class2= data_class2[mask]\n",
    "    data_label1= torch.zeros(data_class1.shape[0],1)\n",
    "    data_lable2= torch.ones(data_class2.shape[0],1)\n",
    "    \n",
    "    x_data= torch.cat((data_class1,data_class2),0)\n",
    "    y_data = torch.cat((data_label1,data_lable2),0)\n",
    "    \n",
    "    return x_data, y_data\n",
    "    \n",
    "    "
   ]
  },
  {
   "cell_type": "code",
   "execution_count": 3,
   "metadata": {},
   "outputs": [],
   "source": [
    "x_train, y_train = create_data(1000)\n",
    "x_test, y_test = create_data(500)"
   ]
  },
  {
   "cell_type": "code",
   "execution_count": null,
   "metadata": {},
   "outputs": [],
   "source": [
    "\n",
    "plt.figure(figsize=(7,7))\n",
    "plt.scatter(x_train[:,0].numpy(),x_train[:,1].numpy(),c=cmap=)"
   ]
  }
 ],
 "metadata": {
  "kernelspec": {
   "display_name": "Python 3",
   "language": "python",
   "name": "python3"
  },
  "language_info": {
   "codemirror_mode": {
    "name": "ipython",
    "version": 3
   },
   "file_extension": ".py",
   "mimetype": "text/x-python",
   "name": "python",
   "nbconvert_exporter": "python",
   "pygments_lexer": "ipython3",
   "version": "3.10.8"
  }
 },
 "nbformat": 4,
 "nbformat_minor": 2
}
